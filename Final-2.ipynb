{
 "cells": [
  {
   "cell_type": "code",
   "execution_count": 1,
   "metadata": {},
   "outputs": [],
   "source": [
    "import pandas as pd\n",
    "import matplotlib.pyplot as plt \n",
    "import seaborn as sns\n",
    "%matplotlib inline\n",
    "import numpy as np\n",
    "from scipy.stats import ttest_ind, chi2_contingency, shapiro, levene"
   ]
  },
  {
   "cell_type": "code",
   "execution_count": 2,
   "metadata": {},
   "outputs": [],
   "source": [
    "sns.set(font_scale=1,\n",
    "        style=\"whitegrid\",\n",
    "        rc={'figure.figsize': (7, 4)})"
   ]
  },
  {
   "cell_type": "markdown",
   "metadata": {},
   "source": [
    "### Задание 1\n",
    "#### Retention – один из самых важных показателей в компании. Ваша задача – написать функцию, которая будет считать  retention игроков (по дням от даты регистрации игрока) данные лежат в папке shared"
   ]
  },
  {
   "cell_type": "code",
   "execution_count": 3,
   "metadata": {},
   "outputs": [],
   "source": [
    "# Загружаю данные, преобразовываю формат регистрации к дате\n",
    "df_reg = pd.read_csv('~/shared/problem1-reg_data.csv', sep=';')"
   ]
  },
  {
   "cell_type": "code",
   "execution_count": 4,
   "metadata": {},
   "outputs": [],
   "source": [
    "df_reg['reg_ts'] = pd.to_datetime(df_reg['reg_ts'], unit='s')\n",
    "df_reg['reg_ts'] = df_reg.reg_ts.dt.date\n",
    "df_reg['reg_ts'] = pd.to_datetime(df_reg['reg_ts'])"
   ]
  },
  {
   "cell_type": "code",
   "execution_count": 5,
   "metadata": {},
   "outputs": [
    {
     "data": {
      "text/html": [
       "<div>\n",
       "<style scoped>\n",
       "    .dataframe tbody tr th:only-of-type {\n",
       "        vertical-align: middle;\n",
       "    }\n",
       "\n",
       "    .dataframe tbody tr th {\n",
       "        vertical-align: top;\n",
       "    }\n",
       "\n",
       "    .dataframe thead th {\n",
       "        text-align: right;\n",
       "    }\n",
       "</style>\n",
       "<table border=\"1\" class=\"dataframe\">\n",
       "  <thead>\n",
       "    <tr style=\"text-align: right;\">\n",
       "      <th></th>\n",
       "      <th>reg_ts</th>\n",
       "      <th>uid</th>\n",
       "    </tr>\n",
       "  </thead>\n",
       "  <tbody>\n",
       "    <tr>\n",
       "      <th>999995</th>\n",
       "      <td>2020-09-23</td>\n",
       "      <td>1110618</td>\n",
       "    </tr>\n",
       "    <tr>\n",
       "      <th>999996</th>\n",
       "      <td>2020-09-23</td>\n",
       "      <td>1110619</td>\n",
       "    </tr>\n",
       "    <tr>\n",
       "      <th>999997</th>\n",
       "      <td>2020-09-23</td>\n",
       "      <td>1110620</td>\n",
       "    </tr>\n",
       "    <tr>\n",
       "      <th>999998</th>\n",
       "      <td>2020-09-23</td>\n",
       "      <td>1110621</td>\n",
       "    </tr>\n",
       "    <tr>\n",
       "      <th>999999</th>\n",
       "      <td>2020-09-23</td>\n",
       "      <td>1110622</td>\n",
       "    </tr>\n",
       "  </tbody>\n",
       "</table>\n",
       "</div>"
      ],
      "text/plain": [
       "           reg_ts      uid\n",
       "999995 2020-09-23  1110618\n",
       "999996 2020-09-23  1110619\n",
       "999997 2020-09-23  1110620\n",
       "999998 2020-09-23  1110621\n",
       "999999 2020-09-23  1110622"
      ]
     },
     "execution_count": 5,
     "metadata": {},
     "output_type": "execute_result"
    }
   ],
   "source": [
    "df_reg.tail()"
   ]
  },
  {
   "cell_type": "code",
   "execution_count": 6,
   "metadata": {},
   "outputs": [],
   "source": [
    "# Загружаю данные, преобразовываю формат регистрации к дате\n",
    "df_auth = pd.read_csv('~/shared/problem1-auth_data.csv', sep=';')"
   ]
  },
  {
   "cell_type": "code",
   "execution_count": 7,
   "metadata": {},
   "outputs": [],
   "source": [
    "df_auth.auth_ts = pd.to_datetime(df_auth['auth_ts'], unit='s')\n",
    "df_auth['auth_ts'] = df_auth.auth_ts.dt.date\n",
    "df_auth.auth_ts = pd.to_datetime(df_auth['auth_ts'])"
   ]
  },
  {
   "cell_type": "code",
   "execution_count": 8,
   "metadata": {},
   "outputs": [
    {
     "data": {
      "text/html": [
       "<div>\n",
       "<style scoped>\n",
       "    .dataframe tbody tr th:only-of-type {\n",
       "        vertical-align: middle;\n",
       "    }\n",
       "\n",
       "    .dataframe tbody tr th {\n",
       "        vertical-align: top;\n",
       "    }\n",
       "\n",
       "    .dataframe thead th {\n",
       "        text-align: right;\n",
       "    }\n",
       "</style>\n",
       "<table border=\"1\" class=\"dataframe\">\n",
       "  <thead>\n",
       "    <tr style=\"text-align: right;\">\n",
       "      <th></th>\n",
       "      <th>auth_ts</th>\n",
       "      <th>uid</th>\n",
       "    </tr>\n",
       "  </thead>\n",
       "  <tbody>\n",
       "    <tr>\n",
       "      <th>0</th>\n",
       "      <td>1998-11-18</td>\n",
       "      <td>1</td>\n",
       "    </tr>\n",
       "    <tr>\n",
       "      <th>1</th>\n",
       "      <td>1999-07-22</td>\n",
       "      <td>2</td>\n",
       "    </tr>\n",
       "    <tr>\n",
       "      <th>2</th>\n",
       "      <td>1999-07-25</td>\n",
       "      <td>2</td>\n",
       "    </tr>\n",
       "    <tr>\n",
       "      <th>3</th>\n",
       "      <td>1999-07-31</td>\n",
       "      <td>2</td>\n",
       "    </tr>\n",
       "    <tr>\n",
       "      <th>4</th>\n",
       "      <td>1999-08-05</td>\n",
       "      <td>2</td>\n",
       "    </tr>\n",
       "  </tbody>\n",
       "</table>\n",
       "</div>"
      ],
      "text/plain": [
       "     auth_ts  uid\n",
       "0 1998-11-18    1\n",
       "1 1999-07-22    2\n",
       "2 1999-07-25    2\n",
       "3 1999-07-31    2\n",
       "4 1999-08-05    2"
      ]
     },
     "execution_count": 8,
     "metadata": {},
     "output_type": "execute_result"
    }
   ],
   "source": [
    "df_auth.head()"
   ]
  },
  {
   "cell_type": "code",
   "execution_count": 9,
   "metadata": {},
   "outputs": [
    {
     "data": {
      "text/plain": [
       "1000000"
      ]
     },
     "execution_count": 9,
     "metadata": {},
     "output_type": "execute_result"
    }
   ],
   "source": [
    "# Сравниваю количество уникальных ID пользователей\n",
    "df_reg.uid.nunique()"
   ]
  },
  {
   "cell_type": "code",
   "execution_count": 10,
   "metadata": {},
   "outputs": [
    {
     "data": {
      "text/plain": [
       "1000000"
      ]
     },
     "execution_count": 10,
     "metadata": {},
     "output_type": "execute_result"
    }
   ],
   "source": [
    "df_auth.uid.nunique()"
   ]
  },
  {
   "cell_type": "code",
   "execution_count": 11,
   "metadata": {},
   "outputs": [],
   "source": [
    "def retention(min_date='2019-09-23'):\n",
    "    \n",
    "    \n",
    "    \"\"\"\n",
    "    Функция для подсчета удержания пользователей, на вход принимает дату в формате 'ГГГГ-ММ-ДД' \n",
    "    Сейчас выбрана дата на год старше от самой новой регистрации. \n",
    "    Данные за 90-е годы не вижу смысла смотреть, тк на дворе 2023, \n",
    "    но никто не мешает закинуть любую дату в функцию. \n",
    "    По 2019-09-23 процент удержания 3-4%, что является крайне низким. \n",
    "    Даже на первый день, после регистрации, нет 10%, что говорит о неинтересном геймплее, \n",
    "    либо о перегруженных механиках, отталкивающих новичков. Но если посмотреть удержание 60 дня, \n",
    "    то можно увидеть игроков, которых игра зацепила, В целом, начинаю с 1 и по 60 день, \n",
    "    процент удердания примерно одинаковый, значит что-то в игре да есть, раз люди не бросают ее полностью.\n",
    "    \"\"\"\n",
    "    \n",
    "    \n",
    "    df_var1_df1 = df_reg[(df_reg.reg_ts == min_date)]\n",
    "    df_word = df_auth.merge(df_var1_df1, how='right', on='uid')\n",
    "    df_word.head()\n",
    "    if (df_word.auth_ts.max() - pd.to_datetime(min_date)).days > 61:\n",
    "        \n",
    "        day_0 = df_word.auth_ts.min()\n",
    "        day_1 = df_word.auth_ts.min() + pd.DateOffset(days=1)\n",
    "        day_2 = df_word.auth_ts.min() + pd.DateOffset(days=2)\n",
    "        day_3 = df_word.auth_ts.min() + pd.DateOffset(days=3)\n",
    "        day_7 = df_word.auth_ts.min() + pd.DateOffset(days=7)\n",
    "        day_14 = df_word.auth_ts.min() + pd.DateOffset(days=14)\n",
    "        day_30 = df_word.auth_ts.min() + pd.DateOffset(days=30)\n",
    "        day_60 = df_word.auth_ts.min() + pd.DateOffset(months=2)\n",
    "        \n",
    "        lst = dict({'day_0': day_0, \"day_1\": day_1, \"day_2\": day_2, \n",
    "                    \"day_3\": day_3, \"day_7\": day_7, 'day_14': day_14, \n",
    "                    \"day_30\": day_30, \"day_60\": day_60})\n",
    "        lst2 = []\n",
    "        \n",
    "        for i in lst.values():\n",
    "            lst2.append(df_word[df_word.auth_ts == i].uid.nunique())\n",
    "            \n",
    "        d = {'date': lst.values(), 'day': lst.keys(), 'count': lst2}\n",
    "        df_work = pd.DataFrame(data=d)\n",
    "        df_work['retention'] = df_work['count'].div(df_work['count'][0]).mul(100)\n",
    "        \n",
    "        sns.relplot(x=df_work['day'][1:], y=df_work['retention'][1:], kind=\"line\", height=5, aspect=2)\n",
    "        plt.axhline(y=np.median(df_work['retention']), color='red', linestyle='--', linewidth=2, label='Avg') \n",
    "        plt.legend(loc='upper right')\n",
    "        print('ok')\n",
    "        print(min_date)\n",
    "        print(df_work)\n",
    "        \n",
    "    elif (df_word.auth_ts.max() - pd.to_datetime(min_date)).days > 30:\n",
    "        \n",
    "        day_0 = df_word.auth_ts.min()\n",
    "        day_1 = df_word.auth_ts.min() + pd.DateOffset(days=1)\n",
    "        day_2 = df_word.auth_ts.min() + pd.DateOffset(days=2)\n",
    "        day_3 = df_word.auth_ts.min() + pd.DateOffset(days=3)\n",
    "        day_7 = df_word.auth_ts.min() + pd.DateOffset(days=7)\n",
    "        day_14 = df_word.auth_ts.min() + pd.DateOffset(days=14)\n",
    "        day_30 = df_word.auth_ts.min() + pd.DateOffset(days=30)\n",
    "        \n",
    "        lst = dict({'day_0': day_0, \"day_1\": day_1, \"day_2\": day_2, \n",
    "                    \"day_3\": day_3, \"day_7\": day_7, 'day_14': day_14, \n",
    "                    \"day_30\": day_30})\n",
    "        lst2 = []\n",
    "        \n",
    "        for i in lst.values():\n",
    "            lst2.append(df_word[df_word.auth_ts == i].uid.nunique())\n",
    "            \n",
    "        d = {'date': lst.values(), 'day': lst.keys(), 'count': lst2}\n",
    "        df_work = pd.DataFrame(data=d)\n",
    "        df_work['retention'] = df_work['count'].div(df_work['count'][0]).mul(100)\n",
    "        \n",
    "        sns.relplot(x=df_work['day'][1:], y=df_work['retention'][1:], kind=\"line\", height=5, aspect=2)\n",
    "        plt.axhline(y=np.median(df_work['retention']), color='red', linestyle='--', linewidth=2, label='Avg') \n",
    "        plt.legend(loc='upper right')\n",
    "        print('ok30')        \n",
    "        print(df_work)\n",
    "        \n",
    "\n",
    "    elif (df_word.auth_ts.max() - pd.to_datetime(min_date)).days > 7 < 30:\n",
    "        \n",
    "        day_0 = df_word.auth_ts.min()\n",
    "        day_1 = df_word.auth_ts.min() + pd.DateOffset(days=1)\n",
    "        day_2 = df_word.auth_ts.min() + pd.DateOffset(days=2)\n",
    "        day_3 = df_word.auth_ts.min() + pd.DateOffset(days=3)\n",
    "        day_7 = df_word.auth_ts.min() + pd.DateOffset(days=7)\n",
    "        day_14 = df_word.auth_ts.min() + pd.DateOffset(days=14)\n",
    "        \n",
    "        lst = dict({'day_0': day_0, \"day_1\": day_1, \"day_2\": day_2, \n",
    "                    \"day_3\": day_3, \"day_7\": day_7, 'day_14': day_14})\n",
    "        lst2 = []\n",
    "        \n",
    "        for i in lst.values():\n",
    "            lst2.append(df_word[df_word.auth_ts == i].uid.nunique())\n",
    "            \n",
    "        d = {'date': lst.values(), 'day': lst.keys(), 'count': lst2}\n",
    "        df_work = pd.DataFrame(data=d)\n",
    "        df_work['retention'] = df_work['count'].div(df_work['count'][0]).mul(100)\n",
    "        \n",
    "        sns.relplot(x=df_work['day'][1:], y=df_work['retention'][1:], kind=\"line\", height=5, aspect=2)\n",
    "        plt.axhline(y=np.median(df_work['retention']), color='red', linestyle='--', linewidth=2, label='Avg') \n",
    "        plt.legend(loc='upper right')\n",
    "        print('ok7')\n",
    "        print(df_work)\n",
    "    else:\n",
    "        print('Davai daty drygyu, tyt smotret nechego')\n"
   ]
  },
  {
   "cell_type": "code",
   "execution_count": 12,
   "metadata": {},
   "outputs": [
    {
     "name": "stdout",
     "output_type": "stream",
     "text": [
      "\n",
      "    Функция для подсчета удержания пользователей, на вход принимает дату в формате 'ГГГГ-ММ-ДД' \n",
      "    Сейчас выбрана дата на год старше от самой новой регистрации. \n",
      "    Данные за 90-е годы не вижу смысла смотреть, тк на дворе 2023, \n",
      "    но никто не мешает закинуть любую дату в функцию. \n",
      "    По 2019-09-23 процент удержания 3-4%, что является крайне низким. \n",
      "    Даже на первый день, после регистрации, нет 10%, что говорит о неинтересном геймплее, \n",
      "    либо о перегруженных механиках, отталкивающих новичков. Но если посмотреть удержание 60 дня, \n",
      "    то можно увидеть игроков, которых игра зацепила, В целом, начинаю с 1 и по 60 день, \n",
      "    процент удердания примерно одинаковый, значит что-то в игре да есть, раз люди не бросают ее полностью.\n",
      "    \n"
     ]
    }
   ],
   "source": [
    "print(retention.__doc__)"
   ]
  },
  {
   "cell_type": "code",
   "execution_count": 13,
   "metadata": {},
   "outputs": [
    {
     "name": "stdout",
     "output_type": "stream",
     "text": [
      "ok\n",
      "2019-09-23\n",
      "        date     day  count   retention\n",
      "0 2019-09-23   day_0    900  100.000000\n",
      "1 2019-09-24   day_1     14    1.555556\n",
      "2 2019-09-25   day_2     29    3.222222\n",
      "3 2019-09-26   day_3     35    3.888889\n",
      "4 2019-09-30   day_7     52    5.777778\n",
      "5 2019-10-07  day_14     42    4.666667\n",
      "6 2019-10-23  day_30     30    3.333333\n",
      "7 2019-11-23  day_60     11    1.222222\n"
     ]
    },
    {
     "data": {
      "image/png": "[encoded data removed]",
      "text/plain": [
       "<Figure size 720x360 with 1 Axes>"
      ]
     },
     "metadata": {},
     "output_type": "display_data"
    }
   ],
   "source": [
    "retention()"
   ]
  },
  {
   "cell_type": "code",
   "execution_count": null,
   "metadata": {},
   "outputs": [],
   "source": []
  },
  {
   "cell_type": "markdown",
   "metadata": {},
   "source": [
    "#### Задание 2\n",
    "##### Имеются результаты A/B теста, в котором двум группам пользователей предлагались различные наборы акционных предложений. Известно, что ARPU в тестовой группе выше на 5%, чем в контрольной. При этом в контрольной группе 1928 игроков из 202103 оказались платящими, а в тестовой – 1805 из 202667.\n",
    "\n",
    "##### Какой набор предложений можно считать лучшим? Какие метрики стоит проанализировать для принятия правильного решения и как?"
   ]
  },
  {
   "cell_type": "code",
   "execution_count": 14,
   "metadata": {},
   "outputs": [],
   "source": [
    "# Подгружаем данные, смотрим\n",
    "ab = pd.read_csv('https://getfile.dokpub.com/yandex/get/https://disk.yandex.ru/d/SOkIsD5A8xlI7Q', sep=';')"
   ]
  },
  {
   "cell_type": "code",
   "execution_count": 15,
   "metadata": {},
   "outputs": [
    {
     "data": {
      "text/html": [
       "<div>\n",
       "<style scoped>\n",
       "    .dataframe tbody tr th:only-of-type {\n",
       "        vertical-align: middle;\n",
       "    }\n",
       "\n",
       "    .dataframe tbody tr th {\n",
       "        vertical-align: top;\n",
       "    }\n",
       "\n",
       "    .dataframe thead th {\n",
       "        text-align: right;\n",
       "    }\n",
       "</style>\n",
       "<table border=\"1\" class=\"dataframe\">\n",
       "  <thead>\n",
       "    <tr style=\"text-align: right;\">\n",
       "      <th></th>\n",
       "      <th>user_id</th>\n",
       "      <th>revenue</th>\n",
       "      <th>testgroup</th>\n",
       "    </tr>\n",
       "  </thead>\n",
       "  <tbody>\n",
       "    <tr>\n",
       "      <th>0</th>\n",
       "      <td>1</td>\n",
       "      <td>0</td>\n",
       "      <td>b</td>\n",
       "    </tr>\n",
       "    <tr>\n",
       "      <th>1</th>\n",
       "      <td>2</td>\n",
       "      <td>0</td>\n",
       "      <td>a</td>\n",
       "    </tr>\n",
       "    <tr>\n",
       "      <th>2</th>\n",
       "      <td>3</td>\n",
       "      <td>0</td>\n",
       "      <td>a</td>\n",
       "    </tr>\n",
       "    <tr>\n",
       "      <th>3</th>\n",
       "      <td>4</td>\n",
       "      <td>0</td>\n",
       "      <td>b</td>\n",
       "    </tr>\n",
       "    <tr>\n",
       "      <th>4</th>\n",
       "      <td>5</td>\n",
       "      <td>0</td>\n",
       "      <td>b</td>\n",
       "    </tr>\n",
       "  </tbody>\n",
       "</table>\n",
       "</div>"
      ],
      "text/plain": [
       "   user_id  revenue testgroup\n",
       "0        1        0         b\n",
       "1        2        0         a\n",
       "2        3        0         a\n",
       "3        4        0         b\n",
       "4        5        0         b"
      ]
     },
     "execution_count": 15,
     "metadata": {},
     "output_type": "execute_result"
    }
   ],
   "source": [
    "ab.head()"
   ]
  },
  {
   "cell_type": "code",
   "execution_count": 16,
   "metadata": {},
   "outputs": [
    {
     "data": {
      "text/plain": [
       "user_id      0\n",
       "revenue      0\n",
       "testgroup    0\n",
       "dtype: int64"
      ]
     },
     "execution_count": 16,
     "metadata": {},
     "output_type": "execute_result"
    }
   ],
   "source": [
    "# Проверяем на пропущенные значения\n",
    "ab.isna().sum()"
   ]
  },
  {
   "cell_type": "code",
   "execution_count": 17,
   "metadata": {},
   "outputs": [
    {
     "data": {
      "text/html": [
       "<div>\n",
       "<style scoped>\n",
       "    .dataframe tbody tr th:only-of-type {\n",
       "        vertical-align: middle;\n",
       "    }\n",
       "\n",
       "    .dataframe tbody tr th {\n",
       "        vertical-align: top;\n",
       "    }\n",
       "\n",
       "    .dataframe thead th {\n",
       "        text-align: right;\n",
       "    }\n",
       "</style>\n",
       "<table border=\"1\" class=\"dataframe\">\n",
       "  <thead>\n",
       "    <tr style=\"text-align: right;\">\n",
       "      <th></th>\n",
       "      <th>user_id</th>\n",
       "      <th>revenue</th>\n",
       "      <th>testgroup</th>\n",
       "    </tr>\n",
       "  </thead>\n",
       "  <tbody>\n",
       "    <tr>\n",
       "      <th>1</th>\n",
       "      <td>2</td>\n",
       "      <td>0</td>\n",
       "      <td>a</td>\n",
       "    </tr>\n",
       "    <tr>\n",
       "      <th>2</th>\n",
       "      <td>3</td>\n",
       "      <td>0</td>\n",
       "      <td>a</td>\n",
       "    </tr>\n",
       "    <tr>\n",
       "      <th>9</th>\n",
       "      <td>10</td>\n",
       "      <td>0</td>\n",
       "      <td>a</td>\n",
       "    </tr>\n",
       "  </tbody>\n",
       "</table>\n",
       "</div>"
      ],
      "text/plain": [
       "   user_id  revenue testgroup\n",
       "1        2        0         a\n",
       "2        3        0         a\n",
       "9       10        0         a"
      ]
     },
     "execution_count": 17,
     "metadata": {},
     "output_type": "execute_result"
    }
   ],
   "source": [
    "# Разделяем на контрольную и тестовые группы\n",
    "contr = ab.query('testgroup == \"a\"')\n",
    "contr.head(3)"
   ]
  },
  {
   "cell_type": "code",
   "execution_count": 18,
   "metadata": {},
   "outputs": [
    {
     "data": {
      "text/html": [
       "<div>\n",
       "<style scoped>\n",
       "    .dataframe tbody tr th:only-of-type {\n",
       "        vertical-align: middle;\n",
       "    }\n",
       "\n",
       "    .dataframe tbody tr th {\n",
       "        vertical-align: top;\n",
       "    }\n",
       "\n",
       "    .dataframe thead th {\n",
       "        text-align: right;\n",
       "    }\n",
       "</style>\n",
       "<table border=\"1\" class=\"dataframe\">\n",
       "  <thead>\n",
       "    <tr style=\"text-align: right;\">\n",
       "      <th></th>\n",
       "      <th>user_id</th>\n",
       "      <th>revenue</th>\n",
       "      <th>testgroup</th>\n",
       "    </tr>\n",
       "  </thead>\n",
       "  <tbody>\n",
       "    <tr>\n",
       "      <th>0</th>\n",
       "      <td>1</td>\n",
       "      <td>0</td>\n",
       "      <td>b</td>\n",
       "    </tr>\n",
       "    <tr>\n",
       "      <th>3</th>\n",
       "      <td>4</td>\n",
       "      <td>0</td>\n",
       "      <td>b</td>\n",
       "    </tr>\n",
       "    <tr>\n",
       "      <th>4</th>\n",
       "      <td>5</td>\n",
       "      <td>0</td>\n",
       "      <td>b</td>\n",
       "    </tr>\n",
       "  </tbody>\n",
       "</table>\n",
       "</div>"
      ],
      "text/plain": [
       "   user_id  revenue testgroup\n",
       "0        1        0         b\n",
       "3        4        0         b\n",
       "4        5        0         b"
      ]
     },
     "execution_count": 18,
     "metadata": {},
     "output_type": "execute_result"
    }
   ],
   "source": [
    "test = ab.query('testgroup != \"a\"')\n",
    "test.head(3)"
   ]
  },
  {
   "cell_type": "code",
   "execution_count": 19,
   "metadata": {},
   "outputs": [
    {
     "data": {
      "text/html": [
       "<div>\n",
       "<style scoped>\n",
       "    .dataframe tbody tr th:only-of-type {\n",
       "        vertical-align: middle;\n",
       "    }\n",
       "\n",
       "    .dataframe tbody tr th {\n",
       "        vertical-align: top;\n",
       "    }\n",
       "\n",
       "    .dataframe thead tr th {\n",
       "        text-align: left;\n",
       "    }\n",
       "\n",
       "    .dataframe thead tr:last-of-type th {\n",
       "        text-align: right;\n",
       "    }\n",
       "</style>\n",
       "<table border=\"1\" class=\"dataframe\">\n",
       "  <thead>\n",
       "    <tr>\n",
       "      <th></th>\n",
       "      <th colspan=\"8\" halign=\"left\">revenue</th>\n",
       "    </tr>\n",
       "    <tr>\n",
       "      <th></th>\n",
       "      <th>count</th>\n",
       "      <th>mean</th>\n",
       "      <th>std</th>\n",
       "      <th>min</th>\n",
       "      <th>25%</th>\n",
       "      <th>50%</th>\n",
       "      <th>75%</th>\n",
       "      <th>max</th>\n",
       "    </tr>\n",
       "    <tr>\n",
       "      <th>testgroup</th>\n",
       "      <th></th>\n",
       "      <th></th>\n",
       "      <th></th>\n",
       "      <th></th>\n",
       "      <th></th>\n",
       "      <th></th>\n",
       "      <th></th>\n",
       "      <th></th>\n",
       "    </tr>\n",
       "  </thead>\n",
       "  <tbody>\n",
       "    <tr>\n",
       "      <th>a</th>\n",
       "      <td>202103.0</td>\n",
       "      <td>25.413720</td>\n",
       "      <td>920.768137</td>\n",
       "      <td>0.0</td>\n",
       "      <td>0.0</td>\n",
       "      <td>0.0</td>\n",
       "      <td>0.0</td>\n",
       "      <td>37433.0</td>\n",
       "    </tr>\n",
       "    <tr>\n",
       "      <th>b</th>\n",
       "      <td>202667.0</td>\n",
       "      <td>26.751287</td>\n",
       "      <td>287.324162</td>\n",
       "      <td>0.0</td>\n",
       "      <td>0.0</td>\n",
       "      <td>0.0</td>\n",
       "      <td>0.0</td>\n",
       "      <td>4000.0</td>\n",
       "    </tr>\n",
       "  </tbody>\n",
       "</table>\n",
       "</div>"
      ],
      "text/plain": [
       "            revenue                                                    \n",
       "              count       mean         std  min  25%  50%  75%      max\n",
       "testgroup                                                              \n",
       "a          202103.0  25.413720  920.768137  0.0  0.0  0.0  0.0  37433.0\n",
       "b          202667.0  26.751287  287.324162  0.0  0.0  0.0  0.0   4000.0"
      ]
     },
     "execution_count": 19,
     "metadata": {},
     "output_type": "execute_result"
    }
   ],
   "source": [
    "# Смотрим описательную статистику и уже видим инетерсное.\n",
    "# Больше 75% данных в обеих группах равняются нулю.\n",
    "# Так же сильно отличается максимальное значение суммы заказа.\n",
    "ab.groupby('testgroup').agg({'revenue': 'describe'})"
   ]
  },
  {
   "cell_type": "markdown",
   "metadata": {},
   "source": [
    "Ниже распределение данных в контрольной и тестовой группах с нулевыми заказами и без"
   ]
  },
  {
   "cell_type": "code",
   "execution_count": 20,
   "metadata": {},
   "outputs": [
    {
     "name": "stderr",
     "output_type": "stream",
     "text": [
      "/opt/tljh/user/lib/python3.7/site-packages/seaborn/distributions.py:2557: FutureWarning: `distplot` is a deprecated function and will be removed in a future version. Please adapt your code to use either `displot` (a figure-level function with similar flexibility) or `histplot` (an axes-level function for histograms).\n",
      "  warnings.warn(msg, FutureWarning)\n"
     ]
    },
    {
     "data": {
      "text/plain": [
       "<matplotlib.axes._subplots.AxesSubplot at 0x7f280a9069e8>"
      ]
     },
     "execution_count": 20,
     "metadata": {},
     "output_type": "execute_result"
    },
    {
     "data": {
      "image/png": "[encoded data removed]",
      "text/plain": [
       "<Figure size 504x288 with 1 Axes>"
      ]
     },
     "metadata": {},
     "output_type": "display_data"
    }
   ],
   "source": [
    "sns.distplot(contr.revenue)"
   ]
  },
  {
   "cell_type": "code",
   "execution_count": 21,
   "metadata": {},
   "outputs": [
    {
     "name": "stderr",
     "output_type": "stream",
     "text": [
      "/opt/tljh/user/lib/python3.7/site-packages/seaborn/distributions.py:2557: FutureWarning: `distplot` is a deprecated function and will be removed in a future version. Please adapt your code to use either `displot` (a figure-level function with similar flexibility) or `histplot` (an axes-level function for histograms).\n",
      "  warnings.warn(msg, FutureWarning)\n"
     ]
    },
    {
     "data": {
      "text/plain": [
       "<matplotlib.axes._subplots.AxesSubplot at 0x7f280a8386d8>"
      ]
     },
     "execution_count": 21,
     "metadata": {},
     "output_type": "execute_result"
    },
    {
     "data": {
      "image/png": "[encoded data removed]",
      "text/plain": [
       "<Figure size 504x288 with 1 Axes>"
      ]
     },
     "metadata": {},
     "output_type": "display_data"
    }
   ],
   "source": [
    "sns.distplot(contr.query('revenue > 0').revenue)"
   ]
  },
  {
   "cell_type": "code",
   "execution_count": 22,
   "metadata": {},
   "outputs": [
    {
     "name": "stderr",
     "output_type": "stream",
     "text": [
      "/opt/tljh/user/lib/python3.7/site-packages/seaborn/distributions.py:2557: FutureWarning: `distplot` is a deprecated function and will be removed in a future version. Please adapt your code to use either `displot` (a figure-level function with similar flexibility) or `histplot` (an axes-level function for histograms).\n",
      "  warnings.warn(msg, FutureWarning)\n"
     ]
    },
    {
     "data": {
      "text/plain": [
       "<matplotlib.axes._subplots.AxesSubplot at 0x7f280870ab38>"
      ]
     },
     "execution_count": 22,
     "metadata": {},
     "output_type": "execute_result"
    },
    {
     "data": {
      "image/png": "[encoded data removed]",
      "text/plain": [
       "<Figure size 504x288 with 1 Axes>"
      ]
     },
     "metadata": {},
     "output_type": "display_data"
    }
   ],
   "source": [
    "sns.distplot(test.revenue)"
   ]
  },
  {
   "cell_type": "code",
   "execution_count": 23,
   "metadata": {},
   "outputs": [
    {
     "name": "stderr",
     "output_type": "stream",
     "text": [
      "/opt/tljh/user/lib/python3.7/site-packages/seaborn/distributions.py:2557: FutureWarning: `distplot` is a deprecated function and will be removed in a future version. Please adapt your code to use either `displot` (a figure-level function with similar flexibility) or `histplot` (an axes-level function for histograms).\n",
      "  warnings.warn(msg, FutureWarning)\n"
     ]
    },
    {
     "data": {
      "text/plain": [
       "<matplotlib.axes._subplots.AxesSubplot at 0x7f2808722ef0>"
      ]
     },
     "execution_count": 23,
     "metadata": {},
     "output_type": "execute_result"
    },
    {
     "data": {
      "image/png": "[encoded data removed]",
      "text/plain": [
       "<Figure size 504x288 with 1 Axes>"
      ]
     },
     "metadata": {},
     "output_type": "display_data"
    }
   ],
   "source": [
    "sns.distplot(test.query('revenue > 0').revenue)"
   ]
  },
  {
   "cell_type": "markdown",
   "metadata": {},
   "source": [
    "По графикам видно, что в тестовой группе все данные расположились в диапазоне от 1500 до 4500, \n",
    "а в контрольной есть некоторое количество с суммами примерно в 35000"
   ]
  },
  {
   "cell_type": "code",
   "execution_count": 24,
   "metadata": {},
   "outputs": [
    {
     "data": {
      "text/plain": [
       "testgroup\n",
       "a    5136189\n",
       "b    5421603\n",
       "Name: revenue, dtype: int64"
      ]
     },
     "execution_count": 24,
     "metadata": {},
     "output_type": "execute_result"
    }
   ],
   "source": [
    "ab.groupby(['testgroup']).revenue.sum()"
   ]
  },
  {
   "cell_type": "code",
   "execution_count": 25,
   "metadata": {},
   "outputs": [
    {
     "data": {
      "text/plain": [
       "(0.0, 1.0, 0, array([5136189., 5421603.]))"
      ]
     },
     "execution_count": 25,
     "metadata": {},
     "output_type": "execute_result"
    }
   ],
   "source": [
    "chi2_contingency(ab.groupby(['testgroup']).revenue.sum())"
   ]
  },
  {
   "cell_type": "markdown",
   "metadata": {},
   "source": [
    "Различий по выручке между группами не выявлено"
   ]
  },
  {
   "cell_type": "markdown",
   "metadata": {},
   "source": [
    "###### Так как у нас есть данные только по пользователям и выручке, то и метрики будут соответсвующие. Сравним ARPU, ARRPU и конверсию"
   ]
  },
  {
   "cell_type": "markdown",
   "metadata": {},
   "source": [
    "### conversion"
   ]
  },
  {
   "cell_type": "code",
   "execution_count": 26,
   "metadata": {},
   "outputs": [
    {
     "data": {
      "text/plain": [
       "testgroup\n",
       "a    0.953969\n",
       "b    0.890624\n",
       "Name: user_id, dtype: float64"
      ]
     },
     "execution_count": 26,
     "metadata": {},
     "output_type": "execute_result"
    }
   ],
   "source": [
    "# Посмотрим конверсию в группах, а так же проверим, есть ли статзначимые различия.\n",
    "# Н0 - в группах нет отличий\n",
    "# Н1 - в группах есть стат значимые отличия\n",
    "# З афиксируем порог значимости в 0.05\n",
    "ab.query('revenue > 0').groupby('testgroup').user_id.count() / ab.groupby('testgroup').user_id.count() * 100"
   ]
  },
  {
   "cell_type": "code",
   "execution_count": 27,
   "metadata": {},
   "outputs": [
    {
     "data": {
      "text/html": [
       "<div>\n",
       "<style scoped>\n",
       "    .dataframe tbody tr th:only-of-type {\n",
       "        vertical-align: middle;\n",
       "    }\n",
       "\n",
       "    .dataframe tbody tr th {\n",
       "        vertical-align: top;\n",
       "    }\n",
       "\n",
       "    .dataframe thead th {\n",
       "        text-align: right;\n",
       "    }\n",
       "</style>\n",
       "<table border=\"1\" class=\"dataframe\">\n",
       "  <thead>\n",
       "    <tr style=\"text-align: right;\">\n",
       "      <th></th>\n",
       "      <th>control</th>\n",
       "      <th>test</th>\n",
       "    </tr>\n",
       "  </thead>\n",
       "  <tbody>\n",
       "    <tr>\n",
       "      <th>0</th>\n",
       "      <td>1928</td>\n",
       "      <td>1805</td>\n",
       "    </tr>\n",
       "    <tr>\n",
       "      <th>1</th>\n",
       "      <td>202103</td>\n",
       "      <td>202667</td>\n",
       "    </tr>\n",
       "  </tbody>\n",
       "</table>\n",
       "</div>"
      ],
      "text/plain": [
       "   control    test\n",
       "0     1928    1805\n",
       "1   202103  202667"
      ]
     },
     "execution_count": 27,
     "metadata": {},
     "output_type": "execute_result"
    }
   ],
   "source": [
    "# Делаем таблицу собряженности\n",
    "chi_table = pd.DataFrame({'control': [contr.query('revenue > 0').user_id.count(), contr.user_id.count()],\n",
    "                          'test': [test.query('revenue > 0').user_id.count(), test.user_id.count()]})\n",
    "chi_table"
   ]
  },
  {
   "cell_type": "code",
   "execution_count": 28,
   "metadata": {},
   "outputs": [
    {
     "data": {
      "text/plain": [
       "(4.294148751290091,\n",
       " 0.03824373651044168,\n",
       " 1,\n",
       " array([[  1864.48501725, 202166.51498275],\n",
       "        [  1868.51498275, 202603.48501725]]))"
      ]
     },
     "execution_count": 28,
     "metadata": {},
     "output_type": "execute_result"
    }
   ],
   "source": [
    "chi2_contingency([chi_table['control'], chi_table['test']])"
   ]
  },
  {
   "cell_type": "markdown",
   "metadata": {},
   "source": [
    "По результатам Хи-теста выявленые статзначимые отличия. В контрольной группе на 5% меньше конверсия"
   ]
  },
  {
   "cell_type": "markdown",
   "metadata": {},
   "source": [
    "### ARPU"
   ]
  },
  {
   "cell_type": "code",
   "execution_count": 29,
   "metadata": {},
   "outputs": [],
   "source": [
    "# Посчитаем ARPU на пользователя и так же сравним отличаются ли группы статистически.\n",
    "# Н0 - отличий в группах нет\n",
    "# Н1 - Группы статистически отличаются\n",
    "# Для проверки отличий будем использовать t-тест,\n",
    "# тк распределение гомогенно и данных много \n",
    "# p-уровень значимости возьмем 0.05"
   ]
  },
  {
   "cell_type": "code",
   "execution_count": 30,
   "metadata": {},
   "outputs": [
    {
     "data": {
      "text/plain": [
       "25.413719736965806"
      ]
     },
     "execution_count": 30,
     "metadata": {},
     "output_type": "execute_result"
    }
   ],
   "source": [
    "contr.revenue.sum() / contr.user_id.count()"
   ]
  },
  {
   "cell_type": "code",
   "execution_count": 31,
   "metadata": {},
   "outputs": [
    {
     "data": {
      "text/plain": [
       "26.75128659327863"
      ]
     },
     "execution_count": 31,
     "metadata": {},
     "output_type": "execute_result"
    }
   ],
   "source": [
    "test.revenue.sum() / test.user_id.count()"
   ]
  },
  {
   "cell_type": "code",
   "execution_count": 32,
   "metadata": {},
   "outputs": [
    {
     "data": {
      "text/plain": [
       "1.052631683600699"
      ]
     },
     "execution_count": 32,
     "metadata": {},
     "output_type": "execute_result"
    }
   ],
   "source": [
    "# Процентное различие между двумя группами\n",
    "(test.revenue.sum() / test.user_id.count()) / (contr.revenue.sum() / contr.user_id.count())"
   ]
  },
  {
   "cell_type": "code",
   "execution_count": 33,
   "metadata": {},
   "outputs": [
    {
     "data": {
      "text/plain": [
       "LeveneResult(statistic=0.3896289474701388, pvalue=0.5324948591043842)"
      ]
     },
     "execution_count": 33,
     "metadata": {},
     "output_type": "execute_result"
    }
   ],
   "source": [
    "levene(contr.revenue, test.revenue)"
   ]
  },
  {
   "cell_type": "code",
   "execution_count": 34,
   "metadata": {},
   "outputs": [
    {
     "data": {
      "text/plain": [
       "Ttest_indResult(statistic=-0.6242026493616787, pvalue=0.532494858971837)"
      ]
     },
     "execution_count": 34,
     "metadata": {},
     "output_type": "execute_result"
    }
   ],
   "source": [
    "ttest_ind(contr.revenue, test.revenue)"
   ]
  },
  {
   "cell_type": "markdown",
   "metadata": {},
   "source": [
    "Тест Стьюдента не выявил стат значимых отличий, значит мы не может отвергнуть нулевую гипотезу"
   ]
  },
  {
   "cell_type": "code",
   "execution_count": null,
   "metadata": {},
   "outputs": [],
   "source": []
  },
  {
   "cell_type": "markdown",
   "metadata": {},
   "source": [
    "### ARRPU"
   ]
  },
  {
   "cell_type": "code",
   "execution_count": 35,
   "metadata": {},
   "outputs": [],
   "source": [
    "# Посчитаем ARRPU  на пользователя в группах \n",
    "# Н0 - отличий в группах нет\n",
    "# Н1 - Группы статистически отличаются\n",
    "# Для проверки отличий будем использовать t-test c поправкой Уэлча,\n",
    "# тк сильно различается дисперсия, а нормальность сгладит большое количетво данных\n",
    "# p-уровень значимости возьмем 0.05"
   ]
  },
  {
   "cell_type": "code",
   "execution_count": 36,
   "metadata": {},
   "outputs": [
    {
     "data": {
      "text/plain": [
       "2663.9984439834025"
      ]
     },
     "execution_count": 36,
     "metadata": {},
     "output_type": "execute_result"
    }
   ],
   "source": [
    "contr.query('revenue > 0').revenue.sum() / contr.query('revenue > 0').user_id.count()"
   ]
  },
  {
   "cell_type": "code",
   "execution_count": 37,
   "metadata": {},
   "outputs": [
    {
     "data": {
      "text/plain": [
       "3003.6581717451522"
      ]
     },
     "execution_count": 37,
     "metadata": {},
     "output_type": "execute_result"
    }
   ],
   "source": [
    "test.query('revenue > 0').revenue.sum() / test.query('revenue > 0').user_id.count()"
   ]
  },
  {
   "cell_type": "code",
   "execution_count": 38,
   "metadata": {},
   "outputs": [
    {
     "data": {
      "text/plain": [
       "[ShapiroResult(statistic=0.9583123922348022, pvalue=2.491345674771425e-22),\n",
       " ShapiroResult(statistic=0.2667924761772156, pvalue=0.0)]"
      ]
     },
     "execution_count": 38,
     "metadata": {},
     "output_type": "execute_result"
    }
   ],
   "source": [
    "[shapiro(test.query('revenue > 0').revenue),\n",
    " shapiro(contr.query('revenue > 0').revenue)]"
   ]
  },
  {
   "cell_type": "code",
   "execution_count": 39,
   "metadata": {},
   "outputs": [
    {
     "data": {
      "text/plain": [
       "1.1274999722799635"
      ]
     },
     "execution_count": 39,
     "metadata": {},
     "output_type": "execute_result"
    }
   ],
   "source": [
    "((test.query('revenue > 0').revenue.sum() / test.query('revenue > 0').user_id.count()) / \\\n",
    " (contr.query('revenue > 0').revenue.sum() / contr.query('revenue > 0').user_id.count()))"
   ]
  },
  {
   "cell_type": "code",
   "execution_count": 40,
   "metadata": {},
   "outputs": [
    {
     "data": {
      "text/plain": [
       "LeveneResult(statistic=80.85567421779912, pvalue=3.779689868667878e-19)"
      ]
     },
     "execution_count": 40,
     "metadata": {},
     "output_type": "execute_result"
    }
   ],
   "source": [
    "levene(contr.query('revenue > 0').revenue, test.query('revenue > 0').revenue)"
   ]
  },
  {
   "cell_type": "code",
   "execution_count": 41,
   "metadata": {},
   "outputs": [
    {
     "data": {
      "text/plain": [
       "Ttest_indResult(statistic=-1.6446302664300838, pvalue=0.10020780398916015)"
      ]
     },
     "execution_count": 41,
     "metadata": {},
     "output_type": "execute_result"
    }
   ],
   "source": [
    "ttest_ind(contr.query('revenue > 0').revenue, test.query('revenue > 0').revenue, equal_var=False)"
   ]
  },
  {
   "cell_type": "markdown",
   "metadata": {},
   "source": [
    "T-test c поправкой Уэлча не показал статистически значимых различий."
   ]
  },
  {
   "cell_type": "markdown",
   "metadata": {},
   "source": [
    "### По результатам исследования считаю, что мы не можем раскатывать обновление на всех пользователей, так как по сравнению ARPU и ARRPU статистически значимых отличий не выявлено, а конверсия значимо снизилась "
   ]
  },
  {
   "cell_type": "code",
   "execution_count": null,
   "metadata": {},
   "outputs": [],
   "source": []
  },
  {
   "cell_type": "markdown",
   "metadata": {},
   "source": [
    "### Задание 3\n",
    "#### В игре Plants & Gardens каждый месяц проводятся тематические события, ограниченные по времени. В них игроки могут получить уникальные предметы для сада и персонажей, дополнительные монеты или бонусы. Для получения награды требуется пройти ряд уровней за определенное время. С помощью каких метрик можно оценить результаты последнего прошедшего события?\n",
    "\n",
    "#### Предположим, в другом событии мы усложнили механику событий так, что при каждой неудачной попытке выполнения уровня игрок будет откатываться на несколько уровней назад. Изменится ли набор метрик оценки результата? Если да, то как?"
   ]
  },
  {
   "cell_type": "markdown",
   "metadata": {},
   "source": [
    "Для оценки результатов последнего прошедшего события в игре \"Plants & Gardens\" можно использовать следующие метрики:\n",
    "\n",
    "1. **Уровень завершения события**: Подсчитать процент игроков, которые успешно завершили событие, пройдя все необходимые уровни. Это позволит оценить общую сложность и доступность события для игроков.\n",
    "2. **Время завершения события**: Измерить среднее время, требуемое игрокам для завершения события. Более короткое время может указывать на легкость события, в то время как более долгое время может свидетельствовать о его сложности.\n",
    "3. **Количество завершенных уровней**: Оценить среднее количество уровней, которые игроки завершили в рамках события. Это может помочь определить, на каком этапе игроки чаще всего теряют интерес или возникают трудности.\n",
    "4. **Конверсия внутриигровых покупок**: Посмотреть на то, какие дополнительные монеты или бонусы покупали игроки во время события. Это может показать, насколько событие стимулировало монетизацию игры.\n",
    "5. **Отзывы игроков**: Проанализируйте отзывы игроков о событии. Посмотреть на положительные и отрицательные комментарии, чтобы понять, что игроки оценили или не оценили в событии.\n",
    "6. **Удержание игроков**: Изучить, сколько игроков вернулись в игру после завершения события. Это позволит определить, насколько событие удерживает аудиторию и стимулирует их активность.\n",
    "7. **ROI (возврат на инвестиции)**: Если проводилась рекламная или маркетинговая кампания для события, оценить ROI, сравнив затраты на продвижение с доходами, полученными от события.\n",
    "\n",
    "Эти метрики помогут оценить успешность и влияние последнего события в игре \"Plants & Gardens\" на игровой опыт и финансовую производительность игры.\n",
    "\n",
    "Если вы усложнить механику события, включив откат на несколько уровней назад при неудачной попытке выполнения, это повлияет на набор метрик оценки результата. Новая механика может повлиять на игровой процесс и опыт игроков. Вот какие метрики стоит учесть:\n",
    "\n",
    "1. **Уровень завершения события**: Поскольку теперь игроки могут откатываться на несколько уровней назад, уровень завершения события становится более сложным показателем. Возможно, придется пересмотреть, как определять успешное завершение события.\n",
    "2. **Среднее количество попыток на уровне**: Оценить, сколько попыток среднестатистический игрок предпринимает для завершения каждого уровня. Это может показать, насколько сложными стали уровни из-за механики отката.\n",
    "3. **Время завершения события**: Измерить, сколько времени игроки тратят на прохождение события с учетом откатов. Это может дать представление о времени, потраченном на преодоление сложностей.\n",
    "4. **Отток игроков**: Следить за тем, сколько игроков бросило событие из-за сложности механики отката. Оценить, как это влияет на общий отток игроков из игры.\n",
    "5. **Удержание игроков после откатов**: Изучите, как механика отката влияет на удержание игроков. Сравнить, сколько игроков возвращается после неудачных попыток с тем, как было раньше.\n",
    "6. **Уровень монетизации**: Посмотреть на то, как механика отката влияет на уровень монетизации. Возможно, игроки будут склонны больше тратить на покупку дополнительных жизней или бонусов из-за сложности.\n",
    "7. **Отзывы игроков**: Анализируйте отзывы игроков о новой механике. Отзывы могут дать представление о том, как игроки воспринимают эту изменение и какие трудности они испытывают.\n",
    "\n",
    "В целом, механика отката влияет на сложность и игровой опыт, поэтому метрики следует адаптировать для учета этих изменений и оценки их воздействия на результаты события и общий успех игры."
   ]
  }
 ],
 "metadata": {
  "kernelspec": {
   "display_name": "Python 3",
   "language": "python",
   "name": "python3"
  },
  "language_info": {
   "codemirror_mode": {
    "name": "ipython",
    "version": 3
   },
   "file_extension": ".py",
   "mimetype": "text/x-python",
   "name": "python",
   "nbconvert_exporter": "python",
   "pygments_lexer": "ipython3",
   "version": "3.7.3"
  }
 },
 "nbformat": 4,
 "nbformat_minor": 4
}
